{
 "cells": [
  {
   "cell_type": "code",
   "execution_count": null,
   "metadata": {},
   "outputs": [],
   "source": [
    "%pip install praw"
   ]
  },
  {
   "cell_type": "code",
   "execution_count": null,
   "metadata": {},
   "outputs": [],
   "source": [
    "import praw\n",
    "import pandas as pd"
   ]
  },
  {
   "cell_type": "code",
   "execution_count": null,
   "metadata": {},
   "outputs": [],
   "source": [
    "# Reddit API credentials\n",
    "client_id = 'Ho1m6DwbENTfd9m47A7MfA'\n",
    "client_secret = 'xtlYtT9V541Hp8umCn-RePV0LFLJ8Q'\n",
    "refresh_token = '105079607574605-4b-W2JA_s8ZEs072m93Bel-yEyWOPg'\n",
    "user_agent = 'SentimentalAnalysis by Mean-Perception5480'"
   ]
  },
  {
   "cell_type": "code",
   "execution_count": null,
   "metadata": {},
   "outputs": [],
   "source": [
    "# Initialize PRAW\n",
    "reddit = praw.Reddit(client_id=client_id, client_secret=client_secret, user_agent=user_agent)"
   ]
  },
  {
   "cell_type": "code",
   "execution_count": null,
   "metadata": {},
   "outputs": [],
   "source": [
    "# Define function to fetch posts\n",
    "def fetch_posts(subreddit, query, time_filter, limit=100):\n",
    "    posts = []\n",
    "    for submission in reddit.subreddit(subreddit).search(query, time_filter=time_filter, limit=limit):\n",
    "        posts.append([submission.title, submission.selftext, submission.created_utc])\n",
    "    return posts"
   ]
  },
  {
   "cell_type": "code",
   "execution_count": null,
   "metadata": {},
   "outputs": [],
   "source": [
    "# Fetch data from specified subreddits\n",
    "subreddits = ['technology', 'gadgets', 'technews']\n",
    "query = 'launch OR release OR new product'\n",
    "time_filter = 'year'\n",
    "\n",
    "data = []\n",
    "for subreddit in subreddits:\n",
    "    data.extend(fetch_posts(subreddit, query, time_filter))\n",
    "\n",
    "# Convert to DataFrame\n",
    "df = pd.DataFrame(data, columns=['title', 'text', 'created_utc'])\n",
    "df.to_csv('../Data/reddit_posts.csv', index=False)"
   ]
  },
  {
   "cell_type": "code",
   "execution_count": null,
   "metadata": {},
   "outputs": [],
   "source": [
    "from textblob import TextBlob\n",
    "\n",
    "\n",
    "# Fetch posts from disability-related subreddits\n",
    "subreddits = ['disabled', 'Disability']\n",
    "query = 'new product launch'\n",
    "posts = []\n",
    "\n",
    "for subreddit in subreddits:\n",
    "    for submission in reddit.subreddit(subreddit).search(query, limit=1000):\n",
    "        posts.append([submission.title, submission.selftext, submission.created_utc])\n",
    "\n",
    "# Perform sentiment analysis\n",
    "df = pd.DataFrame(posts, columns=['title', 'text', 'created_utc'])\n",
    "df['content'] = df['title'] + ' ' + df['text']\n",
    "df['sentiment'] = df['content'].apply(lambda text: TextBlob(text).sentiment.polarity)\n",
    "\n",
    "# Average sentiment\n",
    "avg_sentiment = df['sentiment'].mean()\n",
    "print(f\"Average Sentiment: {avg_sentiment}\")"
   ]
  },
  {
   "cell_type": "code",
   "execution_count": null,
   "metadata": {},
   "outputs": [],
   "source": [
    "# Fetch posts from young adult-related subreddits\n",
    "subreddits = ['teenagers', 'youngadults']\n",
    "query = 'content filter new product'\n",
    "posts = []\n",
    "\n",
    "for subreddit in subreddits:\n",
    "    for submission in reddit.subreddit(subreddit).search(query, limit=100):\n",
    "        posts.append([submission.title, submission.selftext])\n",
    "\n",
    "# Analyze content\n",
    "df = pd.DataFrame(posts, columns=['title', 'text'])\n",
    "for index, row in df.iterrows():\n",
    "    print(f\"Title: {row['title']}\\nContent: {row['text']}\\n\")\n"
   ]
  },
  {
   "cell_type": "code",
   "execution_count": null,
   "metadata": {},
   "outputs": [],
   "source": [
    "# Fetch posts from relevant subreddits\n",
    "subreddits = ['gadgets', 'technology', 'ProductReviews']\n",
    "query = 'new product review'\n",
    "posts = []\n",
    "\n",
    "for subreddit in subreddits:\n",
    "    for submission in reddit.subreddit(subreddit).search(query, limit=500):\n",
    "        posts.append([submission.title, submission.selftext, submission.created_utc])\n",
    "\n",
    "# Perform sentiment analysis\n",
    "df = pd.DataFrame(posts, columns=['title', 'text', 'created_utc'])\n",
    "df['content'] = df['title'] + ' ' + df['text']\n",
    "df['sentiment'] = df['content'].apply(lambda text: TextBlob(text).sentiment.polarity)\n",
    "\n",
    "# Average sentiment\n",
    "avg_sentiment = df['sentiment'].mean()\n",
    "print(f\"Average Sentiment: {avg_sentiment}\")"
   ]
  }
 ],
 "metadata": {
  "language_info": {
   "name": "python"
  }
 },
 "nbformat": 4,
 "nbformat_minor": 2
}
