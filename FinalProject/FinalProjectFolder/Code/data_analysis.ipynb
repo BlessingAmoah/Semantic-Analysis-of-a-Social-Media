{
 "cells": [
  {
   "cell_type": "code",
   "execution_count": 10,
   "metadata": {},
   "outputs": [],
   "source": [
    "import pandas as pd\n",
    "from textblob import TextBlob\n",
    "\n",
    "# Load data\n",
    "df = pd.read_csv('../Data/reddit_posts.csv')\n",
    "\n",
    "# Combine title and text for sentiment analysis\n",
    "df['content'] = df['title'] + ' ' + df['text']\n",
    "\n",
    "# Perform sentiment analysis\n",
    "df['sentiment'] = df['content'].apply(lambda text: TextBlob(str(text)).sentiment.polarity)\n",
    "\n",
    "# Convert timestamp\n",
    "df['created_utc'] = pd.to_datetime(df['created_utc'], unit='s')\n",
    "\n",
    "# Save processed data\n",
    "df.to_csv('../Data/reddit_posts_with_sentiment.csv', index=False)\n"
   ]
  }
 ],
 "metadata": {
  "kernelspec": {
   "display_name": "Python 3",
   "language": "python",
   "name": "python3"
  },
  "language_info": {
   "codemirror_mode": {
    "name": "ipython",
    "version": 3
   },
   "file_extension": ".py",
   "mimetype": "text/x-python",
   "name": "python",
   "nbconvert_exporter": "python",
   "pygments_lexer": "ipython3",
   "version": "3.10.4"
  }
 },
 "nbformat": 4,
 "nbformat_minor": 2
}
