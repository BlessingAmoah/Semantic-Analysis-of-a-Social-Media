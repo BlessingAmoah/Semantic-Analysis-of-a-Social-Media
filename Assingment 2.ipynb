{
 "cells": [
  {
   "cell_type": "markdown",
   "id": "56779307",
   "metadata": {},
   "source": [
    "## Introduction\n",
    "Welcome to this interactive Jupyter notebook on Sentiment Analysis using product reviews. This exercise will help you learn how to process text data, analyze sentiment, and apply basic NLP techniques."
   ]
  },
  {
   "cell_type": "markdown",
   "id": "fcca7c75",
   "metadata": {},
   "source": [
    "## Setup\n",
    "Ensure you have the necessary libraries installed and imported."
   ]
  },
  {
   "cell_type": "code",
   "execution_count": 16,
   "id": "14ceb267",
   "metadata": {},
   "outputs": [
    {
     "name": "stdout",
     "output_type": "stream",
     "text": [
      "Requirement already satisfied: nltk in /Users/blessingsylvester/.pyenv/versions/3.10.4/lib/python3.10/site-packages (3.8.1)\n",
      "Requirement already satisfied: scikit-learn in /Users/blessingsylvester/.pyenv/versions/3.10.4/lib/python3.10/site-packages (1.4.2)\n",
      "Requirement already satisfied: textblob in /Users/blessingsylvester/.pyenv/versions/3.10.4/lib/python3.10/site-packages (0.18.0.post0)\n",
      "Requirement already satisfied: joblib in /Users/blessingsylvester/.pyenv/versions/3.10.4/lib/python3.10/site-packages (from nltk) (1.4.2)\n",
      "Requirement already satisfied: tqdm in /Users/blessingsylvester/.pyenv/versions/3.10.4/lib/python3.10/site-packages (from nltk) (4.66.4)\n",
      "Requirement already satisfied: click in /Users/blessingsylvester/.pyenv/versions/3.10.4/lib/python3.10/site-packages (from nltk) (8.1.7)\n",
      "Requirement already satisfied: regex>=2021.8.3 in /Users/blessingsylvester/.pyenv/versions/3.10.4/lib/python3.10/site-packages (from nltk) (2024.4.28)\n",
      "Requirement already satisfied: scipy>=1.6.0 in /Users/blessingsylvester/.pyenv/versions/3.10.4/lib/python3.10/site-packages (from scikit-learn) (1.13.0)\n",
      "Requirement already satisfied: threadpoolctl>=2.0.0 in /Users/blessingsylvester/.pyenv/versions/3.10.4/lib/python3.10/site-packages (from scikit-learn) (3.5.0)\n",
      "Requirement already satisfied: numpy>=1.19.5 in /Users/blessingsylvester/.pyenv/versions/3.10.4/lib/python3.10/site-packages (from scikit-learn) (1.26.4)\n",
      "\u001b[33mWARNING: You are using pip version 22.0.4; however, version 24.0 is available.\n",
      "You should consider upgrading via the '/Users/blessingsylvester/.pyenv/versions/3.10.4/bin/python -m pip install --upgrade pip' command.\u001b[0m\u001b[33m\n",
      "\u001b[0mNote: you may need to restart the kernel to use updated packages.\n"
     ]
    },
    {
     "name": "stderr",
     "output_type": "stream",
     "text": [
      "[nltk_data] Downloading package punkt to\n",
      "[nltk_data]     /Users/blessingsylvester/nltk_data...\n",
      "[nltk_data]   Package punkt is already up-to-date!\n",
      "[nltk_data] Downloading package stopwords to\n",
      "[nltk_data]     /Users/blessingsylvester/nltk_data...\n",
      "[nltk_data]   Package stopwords is already up-to-date!\n"
     ]
    },
    {
     "data": {
      "text/plain": [
       "True"
      ]
     },
     "execution_count": 16,
     "metadata": {},
     "output_type": "execute_result"
    }
   ],
   "source": [
    "%pip install nltk scikit-learn textblob\n",
    "import nltk\n",
    "from sklearn.feature_extraction.text import CountVectorizer\n",
    "nltk.download('punkt')\n",
    "nltk.download('stopwords')"
   ]
  },
  {
   "cell_type": "markdown",
   "id": "ef5edd0f",
   "metadata": {},
   "source": [
    "## Product Reviews\n",
    "Below is an array of positive and negative product reviews that we will analyze."
   ]
  },
  {
   "cell_type": "code",
   "execution_count": 17,
   "id": "7e4df690",
   "metadata": {},
   "outputs": [],
   "source": [
    "reviews = ['I absolutely love this product! Highly recommend to everyone.', \"Fantastic quality! I'm very happy with my purchase.\", 'This is the best thing I have bought in a long time!', 'Completely satisfied with the product and service.', 'Five stars, will buy again!', 'This product does exactly what it says, fantastic!', 'Incredible performance and very easy to use.', 'I am so pleased with this purchase, worth every penny!', 'Great value for money and quick delivery.', 'The best on the market, hands down!', 'Such a great purchase, very pleased!', 'Product is of high quality and super durable.', 'Surpassed my expectations, absolutely wonderful!', 'This is amazing, I love it so much!', 'The product works wonderfully and is well made.', 'Not what I expected, quite disappointed.', 'The quality is not as advertised, very upset.', 'This was a waste of money, would not buy again.', 'Poor quality and did not meet my expectations.', \"I regret buying this, it's awful.\", 'Terrible product, do not waste your money!', 'Very unsatisfied with the purchase, it broke within a week.', 'Not worth the price, very misleading.', \"The worst purchase I've ever made!\", \"Disappointed with the product, it's not good at all.\"]"
   ]
  },
  {
   "cell_type": "markdown",
   "id": "04d0536e",
   "metadata": {},
   "source": [
    "## Text Cleaning Exercise\n",
    "Clean the text data by converting to lowercase, removing punctuation, and filtering out stopwords."
   ]
  },
  {
   "cell_type": "code",
   "execution_count": 18,
   "id": "fc51d1d7",
   "metadata": {},
   "outputs": [
    {
     "name": "stdout",
     "output_type": "stream",
     "text": [
      "['absolutely love product Highly recommend everyone', 'Fantastic quality happy purchase', 'best thing bought long time', 'Completely satisfied product service', 'Five stars buy', 'product exactly says fantastic', 'Incredible performance easy use', 'pleased purchase worth every penny', 'Great value money quick delivery', 'best market hands', 'great purchase pleased', 'Product high quality super durable', 'Surpassed expectations absolutely wonderful', 'amazing love much', 'product works wonderfully well made', 'expected quite disappointed', 'quality advertised upset', 'waste money would buy', 'Poor quality meet expectations', 'regret buying awful', 'Terrible product waste money', 'unsatisfied purchase broke within week', 'worth price misleading', 'worst purchase ever made', 'Disappointed product good']\n"
     ]
    }
   ],
   "source": [
    "def clean_text(reviews):\n",
    "    cleaned_reviews = []\n",
    "    for review in reviews:\n",
    "        # Tokenize the review\n",
    "        tokens = word_tokenize(review)\n",
    "        \n",
    "        # Remove punctuation and stopwords\n",
    "        cleaned_tokens = [token for token in tokens if token.isalpha() and token.lower() not in stopwords.words('english')]\n",
    "        \n",
    "        cleaned_reviews.append(' '.join(cleaned_tokens))\n",
    "    return cleaned_reviews\n",
    "\n",
    "# Clean the reviews\n",
    "cleaned_reviews = clean_text(reviews)\n",
    "print(cleaned_reviews)"
   ]
  },
  {
   "cell_type": "markdown",
   "id": "c7328509",
   "metadata": {},
   "source": [
    "## Sentiment Analysis Exercise\n",
    "Perform sentiment analysis using simple word counting. Identify positive and negative words, and classify the reviews based on the counts."
   ]
  },
  {
   "cell_type": "code",
   "execution_count": 19,
   "id": "ba31036a",
   "metadata": {},
   "outputs": [
    {
     "name": "stdout",
     "output_type": "stream",
     "text": [
      "Overall sentiment: positive\n"
     ]
    }
   ],
   "source": [
    "positive_words = ['love', 'fantastic', 'best', 'incredible', 'pleased', 'great', 'amazing', 'high', 'wonderful', 'satisfied']\n",
    "negative_words = ['disappointed', 'waste', 'poor', 'regret', 'terrible', 'unsatisfied', 'broke', 'worst', 'not']\n",
    "\n",
    "def analyze_sentiment(reviews):\n",
    "    positive_count = 0\n",
    "    negative_count = 0\n",
    "    \n",
    "    for review in reviews:\n",
    "        # Get count of positive and negative words in the review\n",
    "        positive_count_review = sum([1 for word in positive_words if word in review])\n",
    "        negative_count_review = sum([1 for word in negative_words if word in review])\n",
    "        \n",
    "        # Update overall counts\n",
    "        if positive_count_review > 0:\n",
    "            positive_count += 1\n",
    "        elif negative_count_review > 0:\n",
    "            negative_count += 1\n",
    "        \n",
    "    # Determine overall sentiment\n",
    "    if positive_count > negative_count:\n",
    "        sentiment = 'positive'\n",
    "    elif negative_count > positive_count:\n",
    "        sentiment = 'negative'\n",
    "    else:\n",
    "        sentiment = 'neutral'\n",
    "        \n",
    "    return sentiment\n",
    "\n",
    "# Analyze the sentiment of cleaned reviews\n",
    "overall_sentiment = analyze_sentiment(cleaned_reviews)\n",
    "\n",
    "# Print the overall sentiment\n",
    "print(\"Overall sentiment:\", overall_sentiment)\n"
   ]
  },
  {
   "cell_type": "code",
   "execution_count": 20,
   "id": "1af6c43d",
   "metadata": {},
   "outputs": [
    {
     "name": "stdout",
     "output_type": "stream",
     "text": [
      "I absolutely love this product! Highly recommend to everyone. - Sentiment: positive\n",
      "Fantastic quality! I'm very happy with my purchase. - Sentiment: positive\n",
      "This is the best thing I have bought in a long time! - Sentiment: positive\n",
      "Completely satisfied with the product and service. - Sentiment: positive\n",
      "Five stars, will buy again! - Sentiment: neutral\n",
      "This product does exactly what it says, fantastic! - Sentiment: positive\n",
      "Incredible performance and very easy to use. - Sentiment: positive\n",
      "I am so pleased with this purchase, worth every penny! - Sentiment: positive\n",
      "Great value for money and quick delivery. - Sentiment: positive\n",
      "The best on the market, hands down! - Sentiment: positive\n",
      "Such a great purchase, very pleased! - Sentiment: positive\n",
      "Product is of high quality and super durable. - Sentiment: positive\n",
      "Surpassed my expectations, absolutely wonderful! - Sentiment: positive\n",
      "This is amazing, I love it so much! - Sentiment: positive\n",
      "The product works wonderfully and is well made. - Sentiment: positive\n",
      "Not what I expected, quite disappointed. - Sentiment: negative\n",
      "The quality is not as advertised, very upset. - Sentiment: positive\n",
      "This was a waste of money, would not buy again. - Sentiment: negative\n",
      "Poor quality and did not meet my expectations. - Sentiment: negative\n",
      "I regret buying this, it's awful. - Sentiment: negative\n",
      "Terrible product, do not waste your money! - Sentiment: negative\n",
      "Very unsatisfied with the purchase, it broke within a week. - Sentiment: positive\n",
      "Not worth the price, very misleading. - Sentiment: positive\n",
      "The worst purchase I've ever made! - Sentiment: negative\n",
      "Disappointed with the product, it's not good at all. - Sentiment: negative\n"
     ]
    }
   ],
   "source": [
    "from textblob import TextBlob\n",
    "\n",
    "sentiments = []\n",
    "\n",
    "for review in reviews:\n",
    "    blob = TextBlob(review)\n",
    "    # Get the sentiment score (polarity) of the review\n",
    "    sentiment_score = blob.sentiment.polarity\n",
    "    # Classify the sentiment as positive, negative or neutral\n",
    "    if sentiment_score > 0:\n",
    "        sentiment = 'positive'\n",
    "    elif sentiment_score < 0:\n",
    "        sentiment = 'negative'\n",
    "    else:\n",
    "        sentiment = 'neutral'\n",
    "    # Append the sentiment score to the sentiments list\n",
    "    sentiments.append(sentiment)\n",
    "    \n",
    "\n",
    "for i, review in enumerate(reviews):\n",
    "    print(f'{review} - Sentiment: {sentiments[i]}')\n",
    "    \n",
    "#TODO: Calculate the average sentiment score\n"
   ]
  },
  {
   "cell_type": "markdown",
   "id": "deb1eeb2",
   "metadata": {},
   "source": [
    "## Conclusion\n",
    "Congratulations on completing this exercise! You've learned how to clean text data and perform basic sentiment analysis."
   ]
  }
 ],
 "metadata": {
  "kernelspec": {
   "display_name": "build",
   "language": "python",
   "name": "python3"
  },
  "language_info": {
   "codemirror_mode": {
    "name": "ipython",
    "version": 3
   },
   "file_extension": ".py",
   "mimetype": "text/x-python",
   "name": "python",
   "nbconvert_exporter": "python",
   "pygments_lexer": "ipython3",
   "version": "3.10.4"
  }
 },
 "nbformat": 4,
 "nbformat_minor": 5
}
